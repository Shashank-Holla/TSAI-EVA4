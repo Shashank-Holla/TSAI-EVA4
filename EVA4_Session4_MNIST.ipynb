{
  "nbformat": 4,
  "nbformat_minor": 0,
  "metadata": {
    "colab": {
      "name": "EVA4_Session4_MNIST.ipynb",
      "provenance": [],
      "collapsed_sections": [],
      "authorship_tag": "ABX9TyPQ9zPQZ8olXaHuhBzxQTB+",
      "include_colab_link": true
    },
    "kernelspec": {
      "name": "python3",
      "display_name": "Python 3"
    },
    "accelerator": "GPU"
  },
  "cells": [
    {
      "cell_type": "markdown",
      "metadata": {
        "id": "view-in-github",
        "colab_type": "text"
      },
      "source": [
        "<a href=\"https://colab.research.google.com/github/Shashank-Holla/TSAI-EVA4/blob/master/EVA4_Session4_MNIST.ipynb\" target=\"_parent\"><img src=\"https://colab.research.google.com/assets/colab-badge.svg\" alt=\"Open In Colab\"/></a>"
      ]
    },
    {
      "cell_type": "code",
      "metadata": {
        "id": "FCZi9XlW1gT0",
        "colab_type": "code",
        "colab": {}
      },
      "source": [
        "#A future statement is a directive to the compiler that a particular module should be compiled using syntax or semantics that will be available in a specified future release of Python.\n",
        "from __future__ import print_function\n",
        "\n",
        "# torch is the main module that holds all the things you need for Tensor computation.\n",
        "import torch\n",
        "\n",
        "# nn module provides many classes and functions to build neural networks.\n",
        "# models, all kinds of layers, activation functions, parameter classes, etc\n",
        "import torch.nn as nn\n",
        "\n",
        "# functional api such as relu\n",
        "import torch.nn.functional as F\n",
        "\n",
        "# it offers all the optimizers like SGD, ADAM\n",
        "import torch.optim as optim\n",
        "\n",
        "#Torchvision is a package in the PyTorch library containing computer-vision models, datasets, and image transformations\n",
        "from torchvision import datasets, transforms\n",
        "\n",
        "#Matplotlib for graphs.\n",
        "import matplotlib.pyplot as plt\n"
      ],
      "execution_count": 0,
      "outputs": []
    },
    {
      "cell_type": "markdown",
      "metadata": {
        "id": "V5lDGnRJ7o7L",
        "colab_type": "text"
      },
      "source": [
        "3 Convolution layers\n",
        "\n",
        "Layer 1 - 3 X 3 X 16 and 3 X 3 X 32 with padding. Transition layer- with maxPool and Antman. Batch Normalization \n",
        "and Dropout(0.25)\n",
        "\n",
        "Layer 2 - 3 X 3 X 16 and 3 X 3 X 32 with padding. Transition layer- with maxPool and Antman. Batch Normalization and Dropout(0.25)\n",
        "\n",
        "Layer 3 - 3 X 3 X 16, 3 X 3 X 32 and 3 X 3 X 10."
      ]
    },
    {
      "cell_type": "code",
      "metadata": {
        "id": "Vus0oRFX1z-X",
        "colab_type": "code",
        "colab": {}
      },
      "source": [
        "# Build the neural network, expand on top of nn.Module\n",
        "# All network classes in PyTorch expand on the base class: nn.Module. \n",
        "# It packs all the basics: weights, biases, forward method and also some utility attributes and methods like .parameters() and zero_grad()\n",
        "class Net(nn.Module):\n",
        "    def __init__(self):\n",
        "        super(Net, self).__init__()\n",
        "        \n",
        "        #Convolution layer-1\n",
        "        self.conv1 = nn.Sequential(\n",
        "            nn.Conv2d(1, 16, 3, padding=1),\n",
        "            nn.ReLU(),\n",
        "            nn.BatchNorm2d(16),\n",
        "            nn.Conv2d(16, 32, 3, padding=1),\n",
        "            nn.ReLU(),\n",
        "            nn.BatchNorm2d(32),\n",
        "            #Transition layer - start\n",
        "            nn.MaxPool2d(2, 2),\n",
        "            nn.Conv2d(32, 8, 1),\n",
        "            #Transition layer - End\n",
        "            nn.Dropout(0.25)            \n",
        "        )\n",
        "\n",
        "        #Convolution Layer-2\n",
        "        self.conv2 = nn.Sequential(\n",
        "            nn.Conv2d(8, 16, 3, padding=1),\n",
        "            nn.ReLU(),\n",
        "            nn.BatchNorm2d(16),\n",
        "            nn.Conv2d(16, 32, 3, padding=1),\n",
        "            nn.ReLU(),\n",
        "            nn.BatchNorm2d(32),\n",
        "            #Transition layer - start\n",
        "            nn.MaxPool2d(2, 2),\n",
        "            nn.Conv2d(32, 8, 1),\n",
        "            #Transition layer - End\n",
        "            nn.Dropout(0.25)            \n",
        "        ) \n",
        "        \n",
        "        #Final Layer\n",
        "        self.conv3 = nn.Sequential(\n",
        "           nn.Conv2d(8, 16, 3),\n",
        "           nn.ReLU(),\n",
        "           nn.Conv2d(16, 32, 3),\n",
        "           nn.ReLU(),\n",
        "           nn.Conv2d(32,10,3)\n",
        "\n",
        "        )\n",
        "    def forward(self, x):\n",
        "        x = self.conv1(x)\n",
        "        x = self.conv2(x)\n",
        "        x = self.conv3(x)\n",
        "                      \n",
        "        # Flatten layer\n",
        "        x = x.view(-1, 10)\n",
        "        return F.log_softmax(x)"
      ],
      "execution_count": 0,
      "outputs": []
    },
    {
      "cell_type": "code",
      "metadata": {
        "id": "FQQd5mi62_s3",
        "colab_type": "code",
        "outputId": "b9d88e52-b031-440f-9be0-8fd3130904e5",
        "colab": {
          "base_uri": "https://localhost:8080/",
          "height": 658
        }
      },
      "source": [
        "#A way to summarise the model. Summary is textual. Provides- Layer and order of the model, output shape of each layer, total number of parameter in each layer and in the model. \n",
        "from torchsummary import summary\n",
        "\n",
        "#To check if CUDA is available and if system supports. CUDA allows programme to utilize GPUs for computation.\n",
        "use_cuda = torch.cuda.is_available()\n",
        "\n",
        "#Device- Object representing the object on which tensor is or will be allocated.\n",
        "device = torch.device(\"cuda\" if use_cuda else \"cpu\")\n",
        "\n",
        "#Moves model weights to GPUs.\n",
        "model = Net().to(device)\n",
        "summary(model, input_size=(1, 28, 28))"
      ],
      "execution_count": 9,
      "outputs": [
        {
          "output_type": "stream",
          "text": [
            "----------------------------------------------------------------\n",
            "        Layer (type)               Output Shape         Param #\n",
            "================================================================\n",
            "            Conv2d-1           [-1, 16, 28, 28]             160\n",
            "              ReLU-2           [-1, 16, 28, 28]               0\n",
            "       BatchNorm2d-3           [-1, 16, 28, 28]              32\n",
            "            Conv2d-4           [-1, 32, 28, 28]           4,640\n",
            "              ReLU-5           [-1, 32, 28, 28]               0\n",
            "       BatchNorm2d-6           [-1, 32, 28, 28]              64\n",
            "         MaxPool2d-7           [-1, 32, 14, 14]               0\n",
            "            Conv2d-8            [-1, 8, 14, 14]             264\n",
            "           Dropout-9            [-1, 8, 14, 14]               0\n",
            "           Conv2d-10           [-1, 16, 14, 14]           1,168\n",
            "             ReLU-11           [-1, 16, 14, 14]               0\n",
            "      BatchNorm2d-12           [-1, 16, 14, 14]              32\n",
            "           Conv2d-13           [-1, 32, 14, 14]           4,640\n",
            "             ReLU-14           [-1, 32, 14, 14]               0\n",
            "      BatchNorm2d-15           [-1, 32, 14, 14]              64\n",
            "        MaxPool2d-16             [-1, 32, 7, 7]               0\n",
            "           Conv2d-17              [-1, 8, 7, 7]             264\n",
            "          Dropout-18              [-1, 8, 7, 7]               0\n",
            "           Conv2d-19             [-1, 16, 5, 5]           1,168\n",
            "             ReLU-20             [-1, 16, 5, 5]               0\n",
            "           Conv2d-21             [-1, 32, 3, 3]           4,640\n",
            "             ReLU-22             [-1, 32, 3, 3]               0\n",
            "           Conv2d-23             [-1, 10, 1, 1]           2,890\n",
            "================================================================\n",
            "Total params: 20,026\n",
            "Trainable params: 20,026\n",
            "Non-trainable params: 0\n",
            "----------------------------------------------------------------\n",
            "Input size (MB): 0.00\n",
            "Forward/backward pass size (MB): 1.18\n",
            "Params size (MB): 0.08\n",
            "Estimated Total Size (MB): 1.26\n",
            "----------------------------------------------------------------\n"
          ],
          "name": "stdout"
        },
        {
          "output_type": "stream",
          "text": [
            "/usr/local/lib/python3.6/dist-packages/ipykernel_launcher.py:51: UserWarning: Implicit dimension choice for log_softmax has been deprecated. Change the call to include dim=X as an argument.\n"
          ],
          "name": "stderr"
        }
      ]
    },
    {
      "cell_type": "code",
      "metadata": {
        "id": "vOWUSF7d3D4k",
        "colab_type": "code",
        "colab": {}
      },
      "source": [
        "torch.manual_seed(1) # seeding is added so that everytime we run this notebook we get the same result\n",
        "#How many data to be passed at a time to the model.\n",
        "batch_size = 128\n",
        "\n",
        "#num_workers > 1 to use subprocesses to asynchronously load data. pinned RAM (via pin_memory) to speed up RAM to GPU transfers.\n",
        "kwargs = {'num_workers': 1, 'pin_memory': True} if use_cuda else {}\n",
        "\n",
        "# Description for datasets.MNIST\n",
        "# followed link: https://www.aiworkbox.com/lessons/load-mnist-dataset-from-pytorch-torchvision\n",
        "# root: root parameter is to define where to save the data. here: '../data'\n",
        "# The train parameter is set to true because we are initializing the MNIST training dataset.\n",
        "# The download parameter is set to true because we want to download it if it’s not already present in our data folder.\n",
        "# The transform parameter is used for image manipulation transforms. here we are normalizing the training dataset\n",
        "# transforms.ToTensor to turn images into Tensor so we can directly use it with our network\n",
        "\n",
        "# created two folder with name \"raw\" and \"processed\"\n",
        "# ../data/MNIST/processed/ ( 2 files(test.pt, training.pt) are generated after processing)\n",
        "# ../data/MNIST/raw/ (8 files are downloded)\n",
        "\n",
        "# DataLoader: it can load multiple samples parallelly using torch.multiprocessing workers\n",
        "# 0.1307 = Global mean and 0.3081 = Standard Deviation of the MNIST dataset. We'll take them as a given for the normalization.\n",
        "train_loader = torch.utils.data.DataLoader(\n",
        "    datasets.MNIST('../data', train=True, download=True,\n",
        "                    transform=transforms.Compose([\n",
        "                        transforms.ToTensor(),\n",
        "                        transforms.Normalize((0.1307,), (0.3081,))\n",
        "                    ])),\n",
        "    batch_size=batch_size, shuffle=True, **kwargs)\n",
        "\n",
        "# The train parameter is set to false because we want test set, not the train set.\n",
        "# TBD: download=True. If true, downloads the dataset from the internet and puts it in root directory. If dataset is already downloaded, it is not downloaded again.\n",
        "# TBD: why shuffle=True? - To shuffle the dataset so that model generalises better.\n",
        "test_loader = torch.utils.data.DataLoader(\n",
        "    datasets.MNIST('../data', train=False, transform=transforms.Compose([\n",
        "                        transforms.ToTensor(),\n",
        "                        transforms.Normalize((0.1307,), (0.3081,))\n",
        "                    ])),\n",
        "    batch_size=batch_size, shuffle=True, **kwargs)"
      ],
      "execution_count": 0,
      "outputs": []
    },
    {
      "cell_type": "code",
      "metadata": {
        "id": "d2hG1Tec3JaF",
        "colab_type": "code",
        "colab": {}
      },
      "source": [
        "# Using tqdm to show the progress bar. Pass any iterable as argument to tqdm.\n",
        "from tqdm import tqdm\n",
        "#An epoch is a measure of the number of times all training data is used once to update the parameters.\n",
        "def train(model, device, train_loader, optimizer, epoch):\n",
        "    model.train()\n",
        "    pbar = tqdm(train_loader)\n",
        "    for batch_idx, (data, target) in enumerate(pbar):\n",
        "        data, target = data.to(device), target.to(device)\n",
        "        # we need to manually set the gradients to zero using optimizer.zero_grad() since PyTorch by default accumulates gradients.\n",
        "        optimizer.zero_grad()\n",
        "        #produce the output of our network (forward pass).\n",
        "        output = model(data)\n",
        "        #nll_loss - Negative log likelihood loss.  \n",
        "        #Specify the reduction to apply on the output. By default-'mean'. The sum of the output will be divided by the number of elements in the output.\n",
        "        loss = F.nll_loss(output, target)\n",
        "        #Collect a new set of gradients.\n",
        "        loss.backward()\n",
        "        #Gradients propagated back into each of the network's parameters.\n",
        "        optimizer.step()\n",
        "        pbar.set_description(desc= f'loss={loss.item()} batch_id={batch_idx}')\n",
        "        \n",
        "\n",
        "def test(model, device, test_loader):\n",
        "    model.eval()\n",
        "    test_loss = 0\n",
        "    correct = 0\n",
        "        \n",
        "    with torch.no_grad():\n",
        "        for data, target in test_loader:\n",
        "            data, target = data.to(device), target.to(device)\n",
        "            output = model(data)\n",
        "            test_loss += F.nll_loss(output, target, reduction='sum').item()  # sum up batch loss\n",
        "            pred = output.argmax(dim=1, keepdim=True)  # get the index of the max log-probability\n",
        "            correct += pred.eq(target.view_as(pred)).sum().item()\n",
        "            \n",
        "\n",
        "    test_loss /= len(test_loader.dataset)    \n",
        "    \n",
        "    print('\\nTest set: Average loss: {:.4f}, Accuracy: {}/{} ({:.2f}%)\\n'.format(\n",
        "        test_loss, correct, len(test_loader.dataset),\n",
        "        100. * correct / len(test_loader.dataset)))\n",
        "\n",
        "    accuracy_hist.append(round(100. * correct / len(test_loader.dataset),2))    \n",
        "    print('Accuracy score history:',accuracy_hist)\n",
        "\n",
        "    if (epoch == (epoch_lim-1)):\n",
        "      plt.figure(figsize=(12,12))\n",
        "      ax = plt.gca()\n",
        "      ax.set_xlim([1, epoch + 2])\n",
        "      plt.ylabel('Accuracy')\n",
        "      plt.plot(range(1, epoch + 1), accuracy_hist[:epoch+1], 'b', label='Test Accuracy')\n",
        "      ax.grid(linestyle='-.')\n",
        "      plt.legend()\n",
        "      plt.show()"
      ],
      "execution_count": 0,
      "outputs": []
    },
    {
      "cell_type": "code",
      "metadata": {
        "id": "oOK10ApG3RNN",
        "colab_type": "code",
        "outputId": "c99f17ba-8aad-4439-81de-84e2d08cc7b7",
        "colab": {
          "base_uri": "https://localhost:8080/",
          "height": 1000
        }
      },
      "source": [
        "model = Net().to(device)\n",
        "optimizer = optim.SGD(model.parameters(), lr=0.01, momentum=0.9)\n",
        "epoch_lim = 21\n",
        "accuracy_hist = []\n",
        "for epoch in range(1, epoch_lim):\n",
        "    \n",
        "    train(model, device, train_loader, optimizer, epoch)\n",
        "    test(model, device, test_loader)"
      ],
      "execution_count": 12,
      "outputs": [
        {
          "output_type": "stream",
          "text": [
            "  0%|          | 0/469 [00:00<?, ?it/s]/usr/local/lib/python3.6/dist-packages/ipykernel_launcher.py:51: UserWarning: Implicit dimension choice for log_softmax has been deprecated. Change the call to include dim=X as an argument.\n",
            "loss=0.023509874939918518 batch_id=468: 100%|██████████| 469/469 [00:13<00:00, 34.45it/s]\n",
            "  0%|          | 0/469 [00:00<?, ?it/s]"
          ],
          "name": "stderr"
        },
        {
          "output_type": "stream",
          "text": [
            "\n",
            "Test set: Average loss: 0.0568, Accuracy: 9826/10000 (98.26%)\n",
            "\n",
            "Accuracy score history: [98.26]\n"
          ],
          "name": "stdout"
        },
        {
          "output_type": "stream",
          "text": [
            "loss=0.06216222047805786 batch_id=468: 100%|██████████| 469/469 [00:13<00:00, 34.52it/s]\n",
            "  0%|          | 0/469 [00:00<?, ?it/s]"
          ],
          "name": "stderr"
        },
        {
          "output_type": "stream",
          "text": [
            "\n",
            "Test set: Average loss: 0.0476, Accuracy: 9856/10000 (98.56%)\n",
            "\n",
            "Accuracy score history: [98.26, 98.56]\n"
          ],
          "name": "stdout"
        },
        {
          "output_type": "stream",
          "text": [
            "loss=0.13620112836360931 batch_id=468: 100%|██████████| 469/469 [00:13<00:00, 34.28it/s]\n",
            "  0%|          | 0/469 [00:00<?, ?it/s]"
          ],
          "name": "stderr"
        },
        {
          "output_type": "stream",
          "text": [
            "\n",
            "Test set: Average loss: 0.0341, Accuracy: 9883/10000 (98.83%)\n",
            "\n",
            "Accuracy score history: [98.26, 98.56, 98.83]\n"
          ],
          "name": "stdout"
        },
        {
          "output_type": "stream",
          "text": [
            "loss=0.11289197951555252 batch_id=468: 100%|██████████| 469/469 [00:13<00:00, 34.83it/s]\n",
            "  0%|          | 0/469 [00:00<?, ?it/s]"
          ],
          "name": "stderr"
        },
        {
          "output_type": "stream",
          "text": [
            "\n",
            "Test set: Average loss: 0.0347, Accuracy: 9879/10000 (98.79%)\n",
            "\n",
            "Accuracy score history: [98.26, 98.56, 98.83, 98.79]\n"
          ],
          "name": "stdout"
        },
        {
          "output_type": "stream",
          "text": [
            "loss=0.01565154455602169 batch_id=468: 100%|██████████| 469/469 [00:12<00:00, 36.78it/s]\n",
            "  0%|          | 0/469 [00:00<?, ?it/s]"
          ],
          "name": "stderr"
        },
        {
          "output_type": "stream",
          "text": [
            "\n",
            "Test set: Average loss: 0.0257, Accuracy: 9913/10000 (99.13%)\n",
            "\n",
            "Accuracy score history: [98.26, 98.56, 98.83, 98.79, 99.13]\n"
          ],
          "name": "stdout"
        },
        {
          "output_type": "stream",
          "text": [
            "loss=0.0036060214042663574 batch_id=468: 100%|██████████| 469/469 [00:13<00:00, 35.65it/s]\n",
            "  0%|          | 0/469 [00:00<?, ?it/s]"
          ],
          "name": "stderr"
        },
        {
          "output_type": "stream",
          "text": [
            "\n",
            "Test set: Average loss: 0.0234, Accuracy: 9925/10000 (99.25%)\n",
            "\n",
            "Accuracy score history: [98.26, 98.56, 98.83, 98.79, 99.13, 99.25]\n"
          ],
          "name": "stdout"
        },
        {
          "output_type": "stream",
          "text": [
            "loss=0.014292657375335693 batch_id=468: 100%|██████████| 469/469 [00:13<00:00, 35.83it/s]\n",
            "  0%|          | 0/469 [00:00<?, ?it/s]"
          ],
          "name": "stderr"
        },
        {
          "output_type": "stream",
          "text": [
            "\n",
            "Test set: Average loss: 0.0235, Accuracy: 9922/10000 (99.22%)\n",
            "\n",
            "Accuracy score history: [98.26, 98.56, 98.83, 98.79, 99.13, 99.25, 99.22]\n"
          ],
          "name": "stdout"
        },
        {
          "output_type": "stream",
          "text": [
            "loss=0.04654921218752861 batch_id=468: 100%|██████████| 469/469 [00:13<00:00, 35.42it/s]\n",
            "  0%|          | 0/469 [00:00<?, ?it/s]"
          ],
          "name": "stderr"
        },
        {
          "output_type": "stream",
          "text": [
            "\n",
            "Test set: Average loss: 0.0207, Accuracy: 9936/10000 (99.36%)\n",
            "\n",
            "Accuracy score history: [98.26, 98.56, 98.83, 98.79, 99.13, 99.25, 99.22, 99.36]\n"
          ],
          "name": "stdout"
        },
        {
          "output_type": "stream",
          "text": [
            "loss=0.01541839074343443 batch_id=468: 100%|██████████| 469/469 [00:13<00:00, 35.74it/s]\n",
            "  0%|          | 0/469 [00:00<?, ?it/s]"
          ],
          "name": "stderr"
        },
        {
          "output_type": "stream",
          "text": [
            "\n",
            "Test set: Average loss: 0.0212, Accuracy: 9935/10000 (99.35%)\n",
            "\n",
            "Accuracy score history: [98.26, 98.56, 98.83, 98.79, 99.13, 99.25, 99.22, 99.36, 99.35]\n"
          ],
          "name": "stdout"
        },
        {
          "output_type": "stream",
          "text": [
            "loss=0.0484439879655838 batch_id=468: 100%|██████████| 469/469 [00:13<00:00, 35.77it/s]\n",
            "  0%|          | 0/469 [00:00<?, ?it/s]"
          ],
          "name": "stderr"
        },
        {
          "output_type": "stream",
          "text": [
            "\n",
            "Test set: Average loss: 0.0200, Accuracy: 9938/10000 (99.38%)\n",
            "\n",
            "Accuracy score history: [98.26, 98.56, 98.83, 98.79, 99.13, 99.25, 99.22, 99.36, 99.35, 99.38]\n"
          ],
          "name": "stdout"
        },
        {
          "output_type": "stream",
          "text": [
            "loss=0.01976255141198635 batch_id=468: 100%|██████████| 469/469 [00:13<00:00, 35.72it/s]\n",
            "  0%|          | 0/469 [00:00<?, ?it/s]"
          ],
          "name": "stderr"
        },
        {
          "output_type": "stream",
          "text": [
            "\n",
            "Test set: Average loss: 0.0200, Accuracy: 9937/10000 (99.37%)\n",
            "\n",
            "Accuracy score history: [98.26, 98.56, 98.83, 98.79, 99.13, 99.25, 99.22, 99.36, 99.35, 99.38, 99.37]\n"
          ],
          "name": "stdout"
        },
        {
          "output_type": "stream",
          "text": [
            "loss=0.03076651692390442 batch_id=468: 100%|██████████| 469/469 [00:13<00:00, 35.73it/s]\n",
            "  0%|          | 0/469 [00:00<?, ?it/s]"
          ],
          "name": "stderr"
        },
        {
          "output_type": "stream",
          "text": [
            "\n",
            "Test set: Average loss: 0.0235, Accuracy: 9923/10000 (99.23%)\n",
            "\n",
            "Accuracy score history: [98.26, 98.56, 98.83, 98.79, 99.13, 99.25, 99.22, 99.36, 99.35, 99.38, 99.37, 99.23]\n"
          ],
          "name": "stdout"
        },
        {
          "output_type": "stream",
          "text": [
            "loss=0.028808027505874634 batch_id=468: 100%|██████████| 469/469 [00:13<00:00, 35.76it/s]\n",
            "  0%|          | 0/469 [00:00<?, ?it/s]"
          ],
          "name": "stderr"
        },
        {
          "output_type": "stream",
          "text": [
            "\n",
            "Test set: Average loss: 0.0212, Accuracy: 9933/10000 (99.33%)\n",
            "\n",
            "Accuracy score history: [98.26, 98.56, 98.83, 98.79, 99.13, 99.25, 99.22, 99.36, 99.35, 99.38, 99.37, 99.23, 99.33]\n"
          ],
          "name": "stdout"
        },
        {
          "output_type": "stream",
          "text": [
            "loss=0.0008028348092921078 batch_id=468: 100%|██████████| 469/469 [00:13<00:00, 35.40it/s]\n",
            "  0%|          | 0/469 [00:00<?, ?it/s]"
          ],
          "name": "stderr"
        },
        {
          "output_type": "stream",
          "text": [
            "\n",
            "Test set: Average loss: 0.0207, Accuracy: 9935/10000 (99.35%)\n",
            "\n",
            "Accuracy score history: [98.26, 98.56, 98.83, 98.79, 99.13, 99.25, 99.22, 99.36, 99.35, 99.38, 99.37, 99.23, 99.33, 99.35]\n"
          ],
          "name": "stdout"
        },
        {
          "output_type": "stream",
          "text": [
            "loss=0.010792027227580547 batch_id=468: 100%|██████████| 469/469 [00:13<00:00, 35.66it/s]\n",
            "  0%|          | 0/469 [00:00<?, ?it/s]"
          ],
          "name": "stderr"
        },
        {
          "output_type": "stream",
          "text": [
            "\n",
            "Test set: Average loss: 0.0214, Accuracy: 9930/10000 (99.30%)\n",
            "\n",
            "Accuracy score history: [98.26, 98.56, 98.83, 98.79, 99.13, 99.25, 99.22, 99.36, 99.35, 99.38, 99.37, 99.23, 99.33, 99.35, 99.3]\n"
          ],
          "name": "stdout"
        },
        {
          "output_type": "stream",
          "text": [
            "loss=0.06551302969455719 batch_id=468: 100%|██████████| 469/469 [00:13<00:00, 35.33it/s]\n",
            "  0%|          | 0/469 [00:00<?, ?it/s]"
          ],
          "name": "stderr"
        },
        {
          "output_type": "stream",
          "text": [
            "\n",
            "Test set: Average loss: 0.0169, Accuracy: 9942/10000 (99.42%)\n",
            "\n",
            "Accuracy score history: [98.26, 98.56, 98.83, 98.79, 99.13, 99.25, 99.22, 99.36, 99.35, 99.38, 99.37, 99.23, 99.33, 99.35, 99.3, 99.42]\n"
          ],
          "name": "stdout"
        },
        {
          "output_type": "stream",
          "text": [
            "loss=0.008388484828174114 batch_id=468: 100%|██████████| 469/469 [00:13<00:00, 35.39it/s]\n",
            "  0%|          | 0/469 [00:00<?, ?it/s]"
          ],
          "name": "stderr"
        },
        {
          "output_type": "stream",
          "text": [
            "\n",
            "Test set: Average loss: 0.0201, Accuracy: 9939/10000 (99.39%)\n",
            "\n",
            "Accuracy score history: [98.26, 98.56, 98.83, 98.79, 99.13, 99.25, 99.22, 99.36, 99.35, 99.38, 99.37, 99.23, 99.33, 99.35, 99.3, 99.42, 99.39]\n"
          ],
          "name": "stdout"
        },
        {
          "output_type": "stream",
          "text": [
            "loss=0.016268661245703697 batch_id=468: 100%|██████████| 469/469 [00:12<00:00, 37.94it/s]\n",
            "  0%|          | 0/469 [00:00<?, ?it/s]"
          ],
          "name": "stderr"
        },
        {
          "output_type": "stream",
          "text": [
            "\n",
            "Test set: Average loss: 0.0200, Accuracy: 9940/10000 (99.40%)\n",
            "\n",
            "Accuracy score history: [98.26, 98.56, 98.83, 98.79, 99.13, 99.25, 99.22, 99.36, 99.35, 99.38, 99.37, 99.23, 99.33, 99.35, 99.3, 99.42, 99.39, 99.4]\n"
          ],
          "name": "stdout"
        },
        {
          "output_type": "stream",
          "text": [
            "loss=0.006816009525209665 batch_id=468: 100%|██████████| 469/469 [00:13<00:00, 35.68it/s]\n",
            "  0%|          | 0/469 [00:00<?, ?it/s]"
          ],
          "name": "stderr"
        },
        {
          "output_type": "stream",
          "text": [
            "\n",
            "Test set: Average loss: 0.0187, Accuracy: 9936/10000 (99.36%)\n",
            "\n",
            "Accuracy score history: [98.26, 98.56, 98.83, 98.79, 99.13, 99.25, 99.22, 99.36, 99.35, 99.38, 99.37, 99.23, 99.33, 99.35, 99.3, 99.42, 99.39, 99.4, 99.36]\n"
          ],
          "name": "stdout"
        },
        {
          "output_type": "stream",
          "text": [
            "loss=0.0019335498800501227 batch_id=468: 100%|██████████| 469/469 [00:13<00:00, 35.49it/s]\n"
          ],
          "name": "stderr"
        },
        {
          "output_type": "stream",
          "text": [
            "\n",
            "Test set: Average loss: 0.0200, Accuracy: 9946/10000 (99.46%)\n",
            "\n",
            "Accuracy score history: [98.26, 98.56, 98.83, 98.79, 99.13, 99.25, 99.22, 99.36, 99.35, 99.38, 99.37, 99.23, 99.33, 99.35, 99.3, 99.42, 99.39, 99.4, 99.36, 99.46]\n"
          ],
          "name": "stdout"
        },
        {
          "output_type": "display_data",
          "data": {
            "image/png": "[encoded data removed]",
            "text/plain": [
              "<Figure size 864x864 with 1 Axes>"
            ]
          },
          "metadata": {
            "tags": []
          }
        }
      ]
    }
  ]
}