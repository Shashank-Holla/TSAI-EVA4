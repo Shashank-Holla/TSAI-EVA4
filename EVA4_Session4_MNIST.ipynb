{
  "nbformat": 4,
  "nbformat_minor": 0,
  "metadata": {
    "colab": {
      "name": "EVA4_Session4_MNIST.ipynb",
      "provenance": [],
      "collapsed_sections": [],
      "authorship_tag": "ABX9TyPaOAjMG9xZ09hGLk4dcV+r",
      "include_colab_link": true
    },
    "kernelspec": {
      "name": "python3",
      "display_name": "Python 3"
    },
    "accelerator": "GPU"
  },
  "cells": [
    {
      "cell_type": "markdown",
      "metadata": {
        "id": "view-in-github",
        "colab_type": "text"
      },
      "source": [
        "<a href=\"https://colab.research.google.com/github/Shashank-Holla/TSAI-EVA4/blob/master/EVA4_Session4_MNIST.ipynb\" target=\"_parent\"><img src=\"https://colab.research.google.com/assets/colab-badge.svg\" alt=\"Open In Colab\"/></a>"
      ]
    },
    {
      "cell_type": "code",
      "metadata": {
        "id": "FCZi9XlW1gT0",
        "colab_type": "code",
        "colab": {}
      },
      "source": [
        "#A future statement is a directive to the compiler that a particular module should be compiled using syntax or semantics that will be available in a specified future release of Python.\n",
        "from __future__ import print_function\n",
        "\n",
        "# torch is the main module that holds all the things you need for Tensor computation.\n",
        "import torch\n",
        "\n",
        "# nn module provides many classes and functions to build neural networks.\n",
        "# models, all kinds of layers, activation functions, parameter classes, etc\n",
        "import torch.nn as nn\n",
        "\n",
        "# functional api such as relu\n",
        "import torch.nn.functional as F\n",
        "\n",
        "# it offers all the optimizers like SGD, ADAM\n",
        "import torch.optim as optim\n",
        "\n",
        "#Torchvision is a package in the PyTorch library containing computer-vision models, datasets, and image transformations\n",
        "from torchvision import datasets, transforms\n",
        "\n",
        "#Matplotlib for graphs.\n",
        "import matplotlib.pyplot as plt\n"
      ],
      "execution_count": 0,
      "outputs": []
    },
    {
      "cell_type": "code",
      "metadata": {
        "id": "Vus0oRFX1z-X",
        "colab_type": "code",
        "colab": {}
      },
      "source": [
        "# Build the neural network, expand on top of nn.Module\n",
        "# All network classes in PyTorch expand on the base class: nn.Module. \n",
        "# It packs all the basics: weights, biases, forward method and also some utility attributes and methods like .parameters() and zero_grad()\n",
        "class Net(nn.Module):\n",
        "    def __init__(self):\n",
        "        super(Net, self).__init__()\n",
        "\n",
        "        # define layer: n_channels=1, out_channels=32, kernel_size=3\n",
        "        self.conv1 = nn.Conv2d(1, 32, 3, padding=1)   #input: 1X28X28,    Output: 32X28X28,   RF:3X3\n",
        "        self.conv2 = nn.Conv2d(32, 64, 3, padding=1)  #input: 32X28X28,   Output: 64X28X28,   RF:5X5\n",
        "\n",
        "        #kernel_size=2, stride=2\n",
        "        self.pool1 = nn.MaxPool2d(2, 2)               #input: 64X28X28,   Output: 64X14X14,   RF:6X6      (S2: RF:10X10)\n",
        "        self.conv3 = nn.Conv2d(64, 128, 3, padding=1) #input: 64X14X14,   Output: 128X14X14,  RF:10X10    (S2: RF:12X12)\n",
        "        self.conv4 = nn.Conv2d(128, 256, 3, padding=1)#input: 128X14X14,  Output: 256X14X14,  RF:14X14    (S2: RF:14X14)\n",
        "        #self.conv2_drop = nn.Dropout2d\n",
        "        self.pool2 = nn.MaxPool2d(2, 2)               #input: 256X14X14,  Output: 256X7X7,    RF:16X16    (S2: RF:28X28)\n",
        "        self.conv5 = nn.Conv2d(256, 512, 3)           #input: 256X7X7,    Output: 512X5X5,    RF:24X24    (S2: RF:30X30)\n",
        "        self.conv6 = nn.Conv2d(512, 1024, 3)          #input: 512X5X5,    Output: 1024X3X3,   RF:32X32    (S2: RF:32X32)\n",
        "        self.conv7 = nn.Conv2d(1024, 10, 3)           #input: 1024X3X3,   Output: 10X1X1,     RF:40X40    (S2: RF:34X34)\n",
        "\n",
        "    def forward(self, x):\n",
        "        x = F.relu(self.conv1(x))\n",
        "        x = F.relu(self.conv2(x))\n",
        "        x = self.pool1(x)\n",
        "\n",
        "        x = F.relu(self.conv3(x))\n",
        "        x = F.relu(self.conv4(x))\n",
        "        x = self.pool2(x)\n",
        "\n",
        "        x = F.relu(self.conv5(x))\n",
        "        x = F.relu(self.conv6(x))\n",
        "\n",
        "        x = self.conv7(x)\n",
        "        \n",
        "        # flatten the tensor so it can be passed to the dense layer afterward\n",
        "        x = x.view(-1, 10)\n",
        "        return F.log_softmax(x)"
      ],
      "execution_count": 0,
      "outputs": []
    },
    {
      "cell_type": "code",
      "metadata": {
        "id": "FQQd5mi62_s3",
        "colab_type": "code",
        "outputId": "c46670ba-bba9-4928-949f-5d2cac65b570",
        "colab": {
          "base_uri": "https://localhost:8080/",
          "height": 423
        }
      },
      "source": [
        "#A way to summarise the model. Summary is textual. Provides- Layer and order of the model, output shape of each layer, total number of parameter in each layer and in the model. \n",
        "from torchsummary import summary\n",
        "\n",
        "#To check if CUDA is available and if system supports. CUDA allows programme to utilize GPUs for computation.\n",
        "use_cuda = torch.cuda.is_available()\n",
        "\n",
        "#Device- Object representing the object on which tensor is or will be allocated.\n",
        "device = torch.device(\"cuda\" if use_cuda else \"cpu\")\n",
        "\n",
        "#Moves model weights to GPUs.\n",
        "model = Net().to(device)\n",
        "summary(model, input_size=(1, 28, 28))"
      ],
      "execution_count": 10,
      "outputs": [
        {
          "output_type": "stream",
          "text": [
            "----------------------------------------------------------------\n",
            "        Layer (type)               Output Shape         Param #\n",
            "================================================================\n",
            "            Conv2d-1           [-1, 32, 28, 28]             320\n",
            "            Conv2d-2           [-1, 64, 28, 28]          18,496\n",
            "         MaxPool2d-3           [-1, 64, 14, 14]               0\n",
            "            Conv2d-4          [-1, 128, 14, 14]          73,856\n",
            "            Conv2d-5          [-1, 256, 14, 14]         295,168\n",
            "         MaxPool2d-6            [-1, 256, 7, 7]               0\n",
            "            Conv2d-7            [-1, 512, 5, 5]       1,180,160\n",
            "            Conv2d-8           [-1, 1024, 3, 3]       4,719,616\n",
            "            Conv2d-9             [-1, 10, 1, 1]          92,170\n",
            "================================================================\n",
            "Total params: 6,379,786\n",
            "Trainable params: 6,379,786\n",
            "Non-trainable params: 0\n",
            "----------------------------------------------------------------\n",
            "Input size (MB): 0.00\n",
            "Forward/backward pass size (MB): 1.51\n",
            "Params size (MB): 24.34\n",
            "Estimated Total Size (MB): 25.85\n",
            "----------------------------------------------------------------\n"
          ],
          "name": "stdout"
        },
        {
          "output_type": "stream",
          "text": [
            "/usr/local/lib/python3.6/dist-packages/ipykernel_launcher.py:35: UserWarning: Implicit dimension choice for log_softmax has been deprecated. Change the call to include dim=X as an argument.\n"
          ],
          "name": "stderr"
        }
      ]
    },
    {
      "cell_type": "code",
      "metadata": {
        "id": "vOWUSF7d3D4k",
        "colab_type": "code",
        "colab": {}
      },
      "source": [
        "torch.manual_seed(1) # seeding is added so that everytime we run this notebook we get the same result\n",
        "#How many data to be passed at a time to the model.\n",
        "batch_size = 128\n",
        "\n",
        "#num_workers > 1 to use subprocesses to asynchronously load data. pinned RAM (via pin_memory) to speed up RAM to GPU transfers.\n",
        "kwargs = {'num_workers': 1, 'pin_memory': True} if use_cuda else {}\n",
        "\n",
        "# Description for datasets.MNIST\n",
        "# followed link: https://www.aiworkbox.com/lessons/load-mnist-dataset-from-pytorch-torchvision\n",
        "# root: root parameter is to define where to save the data. here: '../data'\n",
        "# The train parameter is set to true because we are initializing the MNIST training dataset.\n",
        "# The download parameter is set to true because we want to download it if it’s not already present in our data folder.\n",
        "# The transform parameter is used for image manipulation transforms. here we are normalizing the training dataset\n",
        "# transforms.ToTensor to turn images into Tensor so we can directly use it with our network\n",
        "\n",
        "# created two folder with name \"raw\" and \"processed\"\n",
        "# ../data/MNIST/processed/ ( 2 files(test.pt, training.pt) are generated after processing)\n",
        "# ../data/MNIST/raw/ (8 files are downloded)\n",
        "\n",
        "# DataLoader: it can load multiple samples parallelly using torch.multiprocessing workers\n",
        "# 0.1307 = Global mean and 0.3081 = Standard Deviation of the MNIST dataset. We'll take them as a given for the normalization.\n",
        "train_loader = torch.utils.data.DataLoader(\n",
        "    datasets.MNIST('../data', train=True, download=True,\n",
        "                    transform=transforms.Compose([\n",
        "                        transforms.ToTensor(),\n",
        "                        transforms.Normalize((0.1307,), (0.3081,))\n",
        "                    ])),\n",
        "    batch_size=batch_size, shuffle=True, **kwargs)\n",
        "\n",
        "# The train parameter is set to false because we want test set, not the train set.\n",
        "# TBD: download=True. If true, downloads the dataset from the internet and puts it in root directory. If dataset is already downloaded, it is not downloaded again.\n",
        "# TBD: why shuffle=True? - To shuffle the dataset so that model generalises better.\n",
        "test_loader = torch.utils.data.DataLoader(\n",
        "    datasets.MNIST('../data', train=False, transform=transforms.Compose([\n",
        "                        transforms.ToTensor(),\n",
        "                        transforms.Normalize((0.1307,), (0.3081,))\n",
        "                    ])),\n",
        "    batch_size=batch_size, shuffle=True, **kwargs)"
      ],
      "execution_count": 0,
      "outputs": []
    },
    {
      "cell_type": "code",
      "metadata": {
        "id": "d2hG1Tec3JaF",
        "colab_type": "code",
        "colab": {}
      },
      "source": [
        "# Using tqdm to show the progress bar. Pass any iterable as argument to tqdm.\n",
        "from tqdm import tqdm\n",
        "#An epoch is a measure of the number of times all training data is used once to update the parameters.\n",
        "def train(model, device, train_loader, optimizer, epoch):\n",
        "    model.train()\n",
        "    pbar = tqdm(train_loader)\n",
        "    for batch_idx, (data, target) in enumerate(pbar):\n",
        "        data, target = data.to(device), target.to(device)\n",
        "        # we need to manually set the gradients to zero using optimizer.zero_grad() since PyTorch by default accumulates gradients.\n",
        "        optimizer.zero_grad()\n",
        "        #produce the output of our network (forward pass).\n",
        "        output = model(data)\n",
        "        #nll_loss - Negative log likelihood loss.  \n",
        "        #Specify the reduction to apply on the output. By default-'mean'. The sum of the output will be divided by the number of elements in the output.\n",
        "        loss = F.nll_loss(output, target)\n",
        "        #Collect a new set of gradients.\n",
        "        loss.backward()\n",
        "        #Gradients propagated back into each of the network's parameters.\n",
        "        optimizer.step()\n",
        "        pbar.set_description(desc= f'loss={loss.item()} batch_id={batch_idx}')\n",
        "        \n",
        "\n",
        "def test(model, device, test_loader):\n",
        "    model.eval()\n",
        "    test_loss = 0\n",
        "    correct = 0\n",
        "        \n",
        "    with torch.no_grad():\n",
        "        for data, target in test_loader:\n",
        "            data, target = data.to(device), target.to(device)\n",
        "            output = model(data)\n",
        "            test_loss += F.nll_loss(output, target, reduction='sum').item()  # sum up batch loss\n",
        "            pred = output.argmax(dim=1, keepdim=True)  # get the index of the max log-probability\n",
        "            correct += pred.eq(target.view_as(pred)).sum().item()\n",
        "            \n",
        "\n",
        "    test_loss /= len(test_loader.dataset)    \n",
        "    \n",
        "    print('\\nTest set: Average loss: {:.4f}, Accuracy: {}/{} ({:.2f}%)\\n'.format(\n",
        "        test_loss, correct, len(test_loader.dataset),\n",
        "        100. * correct / len(test_loader.dataset)))\n",
        "\n",
        "    accuracy_hist.append(round(100. * correct / len(test_loader.dataset),2))    \n",
        "    print('Accuracy score history:',accuracy_hist)\n",
        "\n",
        "    if (epoch == (epoch_lim-1)):\n",
        "      plt.figure(figsize=(12,12))\n",
        "      ax = plt.gca()\n",
        "      ax.set_xlim([1, epoch + 2])\n",
        "      plt.ylabel('Accuracy')\n",
        "      plt.plot(range(1, epoch + 1), accuracy_hist[:epoch+1], 'b', label='Test Accuracy')\n",
        "      ax.grid(linestyle='-.')\n",
        "      plt.legend()\n",
        "      plt.show()"
      ],
      "execution_count": 0,
      "outputs": []
    },
    {
      "cell_type": "code",
      "metadata": {
        "id": "oOK10ApG3RNN",
        "colab_type": "code",
        "outputId": "3d1256d0-9b5d-488b-d56d-b8ebb65e43df",
        "colab": {
          "base_uri": "https://localhost:8080/",
          "height": 1000
        }
      },
      "source": [
        "model = Net().to(device)\n",
        "optimizer = optim.SGD(model.parameters(), lr=0.01, momentum=0.9)\n",
        "epoch_lim = 5\n",
        "accuracy_hist = []\n",
        "for epoch in range(1, epoch_lim):\n",
        "    \n",
        "    train(model, device, train_loader, optimizer, epoch)\n",
        "    test(model, device, test_loader)"
      ],
      "execution_count": 15,
      "outputs": [
        {
          "output_type": "stream",
          "text": [
            "  0%|          | 0/469 [00:00<?, ?it/s]/usr/local/lib/python3.6/dist-packages/ipykernel_launcher.py:35: UserWarning: Implicit dimension choice for log_softmax has been deprecated. Change the call to include dim=X as an argument.\n",
            "loss=0.08925686031579971 batch_id=468: 100%|██████████| 469/469 [00:19<00:00, 24.68it/s]\n",
            "  0%|          | 0/469 [00:00<?, ?it/s]"
          ],
          "name": "stderr"
        },
        {
          "output_type": "stream",
          "text": [
            "\n",
            "Test set: Average loss: 0.0700, Accuracy: 9784/10000 (97.84%)\n",
            "\n",
            "Accuracy score history: [97.84]\n"
          ],
          "name": "stdout"
        },
        {
          "output_type": "stream",
          "text": [
            "loss=0.02342868410050869 batch_id=468: 100%|██████████| 469/469 [00:19<00:00, 25.23it/s]\n",
            "  0%|          | 0/469 [00:00<?, ?it/s]"
          ],
          "name": "stderr"
        },
        {
          "output_type": "stream",
          "text": [
            "\n",
            "Test set: Average loss: 0.0421, Accuracy: 9862/10000 (98.62%)\n",
            "\n",
            "Accuracy score history: [97.84, 98.62]\n"
          ],
          "name": "stdout"
        },
        {
          "output_type": "stream",
          "text": [
            "loss=0.018467208370566368 batch_id=468: 100%|██████████| 469/469 [00:19<00:00, 24.13it/s]\n",
            "  0%|          | 0/469 [00:00<?, ?it/s]"
          ],
          "name": "stderr"
        },
        {
          "output_type": "stream",
          "text": [
            "\n",
            "Test set: Average loss: 0.0323, Accuracy: 9895/10000 (98.95%)\n",
            "\n",
            "Accuracy score history: [97.84, 98.62, 98.95]\n"
          ],
          "name": "stdout"
        },
        {
          "output_type": "stream",
          "text": [
            "loss=0.07598172873258591 batch_id=468: 100%|██████████| 469/469 [00:19<00:00, 25.23it/s]\n"
          ],
          "name": "stderr"
        },
        {
          "output_type": "stream",
          "text": [
            "\n",
            "Test set: Average loss: 0.0276, Accuracy: 9912/10000 (99.12%)\n",
            "\n",
            "Accuracy score history: [97.84, 98.62, 98.95, 99.12]\n"
          ],
          "name": "stdout"
        },
        {
          "output_type": "display_data",
          "data": {
            "image/png": "[encoded data removed]",
            "text/plain": [
              "<Figure size 864x864 with 1 Axes>"
            ]
          },
          "metadata": {
            "tags": []
          }
        }
      ]
    }
  ]
}