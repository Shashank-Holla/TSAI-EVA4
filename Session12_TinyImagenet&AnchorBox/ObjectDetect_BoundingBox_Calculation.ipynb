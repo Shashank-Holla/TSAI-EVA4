{
  "nbformat": 4,
  "nbformat_minor": 0,
  "metadata": {
    "colab": {
      "name": "ObjectDetect_BoundingBox_Calculation.ipynb",
      "provenance": [],
      "collapsed_sections": [],
      "authorship_tag": "ABX9TyMZiYbguqgJaKhvHcVVguqg",
      "include_colab_link": true
    },
    "kernelspec": {
      "name": "python3",
      "display_name": "Python 3"
    }
  },
  "cells": [
    {
      "cell_type": "markdown",
      "metadata": {
        "id": "view-in-github",
        "colab_type": "text"
      },
      "source": [
        "<a href=\"https://colab.research.google.com/github/Shashank-Holla/TSAI-EVA4/blob/master/Session12_TinyImagenet%26AnchorBox/ObjectDetect_BoundingBox_Calculation.ipynb\" target=\"_parent\"><img src=\"https://colab.research.google.com/assets/colab-badge.svg\" alt=\"Open In Colab\"/></a>"
      ]
    },
    {
      "cell_type": "markdown",
      "metadata": {
        "id": "cKNPViIw6k42",
        "colab_type": "text"
      },
      "source": [
        "## Anchor box calculation "
      ]
    },
    {
      "cell_type": "markdown",
      "metadata": {
        "id": "wRmmiciI6ycq",
        "colab_type": "text"
      },
      "source": [
        "### Description of the JSON file of bounding box annotation.\n",
        "The main objects of the json file are:\n",
        "1. **images** - contains details of each image checked for bounding box calculation. Details such as image file name, ID assigned, height and width of the uploaded image are present.\n",
        "\n",
        "For example- first dog image has file name- 0.jpg and ID=0. The image has height and width of 375 and 500 pixels respectively.\n",
        "\n",
        "2. **annotations** - annotations contain details for each object detected. If multiple objects are detected in a single image, then annotation details are captured for each of the objects. Annotation details contains id of the object, image id of the image where object was detected, category and bounding box details of each object. Bounding box include details such as top left x and y co-ordinate of the bounding box (housing the object), height and width of the bounding box.\n",
        "\n",
        "    For example- Image name- 7.jpg has 2 objects (cat and dog detected) and details for each object is available. For the dog object's bounding box, the top left x and top left y co-ordinates are at 5 and 32 respectively.Width and height of the bounding box is 142 and 227.\n",
        "\n",
        "3. **Categories**  - The categories object contains a list of categories (dog, cat) and each of those belongs to a supercategory. "
      ]
    },
    {
      "cell_type": "markdown",
      "metadata": {
        "id": "IsM1w5K8gg3b",
        "colab_type": "text"
      },
      "source": [
        "## Extract bounding box data from annotations."
      ]
    },
    {
      "cell_type": "code",
      "metadata": {
        "id": "NbiBt48F6WjF",
        "colab_type": "code",
        "colab": {
          "base_uri": "https://localhost:8080/",
          "height": 34
        },
        "outputId": "086ba644-e26c-42c1-a50b-2c2f4ec8fdd3"
      },
      "source": [
        "from google.colab import drive\n",
        "drive.mount('/gdrive')"
      ],
      "execution_count": 19,
      "outputs": [
        {
          "output_type": "stream",
          "text": [
            "Drive already mounted at /gdrive; to attempt to forcibly remount, call drive.mount(\"/gdrive\", force_remount=True).\n"
          ],
          "name": "stdout"
        }
      ]
    },
    {
      "cell_type": "code",
      "metadata": {
        "id": "Y_3Vbo7B6xz7",
        "colab_type": "code",
        "colab": {
          "base_uri": "https://localhost:8080/",
          "height": 34
        },
        "outputId": "68d12017-bd97-4b7e-d0c1-55bd705ba809"
      },
      "source": [
        "cd '/gdrive/My Drive/Colab Notebooks/SchoolOfAI/ObjectDetection_boundingBox/'\n"
      ],
      "execution_count": 6,
      "outputs": [
        {
          "output_type": "stream",
          "text": [
            "/gdrive/My Drive/Colab Notebooks/SchoolOfAI/ObjectDetection_boundingBox\n"
          ],
          "name": "stdout"
        }
      ]
    },
    {
      "cell_type": "code",
      "metadata": {
        "id": "h1iDp2Z31AZm",
        "colab_type": "code",
        "colab": {}
      },
      "source": [
        "import json\n",
        "from pprint import pprint\n",
        "import pandas as pd\n",
        "import matplotlib.pyplot as plt\n",
        "import numpy as np\n",
        "from sklearn.cluster import KMeans"
      ],
      "execution_count": 0,
      "outputs": []
    },
    {
      "cell_type": "code",
      "metadata": {
        "id": "WdMY_Y_S1Cbs",
        "colab_type": "code",
        "colab": {
          "base_uri": "https://localhost:8080/",
          "height": 34
        },
        "outputId": "0e6530c4-f1e0-47d3-8b92-18dbefa85001"
      },
      "source": [
        "!ls"
      ],
      "execution_count": 7,
      "outputs": [
        {
          "output_type": "stream",
          "text": [
            "dog_boundingbox_export_coco.json  ObjectDetect_BoundingBox_Calculation.ipynb\n"
          ],
          "name": "stdout"
        }
      ]
    },
    {
      "cell_type": "code",
      "metadata": {
        "id": "y-KHtcPL1TGD",
        "colab_type": "code",
        "colab": {
          "base_uri": "https://localhost:8080/",
          "height": 218
        },
        "outputId": "a472b694-3844-4880-9e49-4a89d6625e0c"
      },
      "source": [
        "with open('dog_boundingbox_export_coco.json', 'r') as fp:\n",
        "    data = json.load(fp)\n",
        "pprint(data.keys())\n",
        "\n",
        "annotation_size = len(data[\"annotations\"])\n",
        "print(\"Number of annotations found:\", annotation_size)\n",
        "print(\"\\nAnnotation example\\n\")\n",
        "pprint(data[\"annotations\"][0])"
      ],
      "execution_count": 42,
      "outputs": [
        {
          "output_type": "stream",
          "text": [
            "dict_keys(['info', 'images', 'annotations', 'licenses', 'categories'])\n",
            "Number of annotations found: 53\n",
            "\n",
            "Annotation example\n",
            "\n",
            "{'area': 93288,\n",
            " 'bbox': [76, 20, 312, 299],\n",
            " 'category_id': 1,\n",
            " 'id': 0,\n",
            " 'image_id': '0',\n",
            " 'iscrowd': 0,\n",
            " 'segmentation': [76, 20, 388, 20, 388, 319, 76, 319]}\n"
          ],
          "name": "stdout"
        }
      ]
    },
    {
      "cell_type": "code",
      "metadata": {
        "id": "gkDRzRXJGGuD",
        "colab_type": "code",
        "colab": {}
      },
      "source": [
        "annotations_df = pd.DataFrame(data[\"annotations\"], columns = ['id','image_id','category_id'])\n",
        "annotations_bbox_df = pd.DataFrame(data[\"annotations\"], columns = ['bbox'])\n",
        "annotations_bbox_df = pd.DataFrame(annotations_bbox_df.bbox.tolist(), columns=['x', 'y', 'w', 'h'])\n",
        "annotations_df = pd.concat([annotations_df, annotations_bbox_df], axis=1)\n",
        "images_df = pd.DataFrame(data[\"images\"], columns = ['id', 'file_name', 'width', 'height'])"
      ],
      "execution_count": 0,
      "outputs": []
    },
    {
      "cell_type": "code",
      "metadata": {
        "id": "E2u-knu0kfVK",
        "colab_type": "code",
        "colab": {
          "base_uri": "https://localhost:8080/",
          "height": 386
        },
        "outputId": "bfce685a-4c1c-4e22-9779-50352da15c4d"
      },
      "source": [
        "print(annotations_df[:10])\n",
        "print(images_df[:10])"
      ],
      "execution_count": 139,
      "outputs": [
        {
          "output_type": "stream",
          "text": [
            "   id image_id  category_id    x   y    w    h\n",
            "0   0        0            1   76  20  312  299\n",
            "1   1        1            1   23  55  294  431\n",
            "2   2        2            1   60  44  110  144\n",
            "3   3        3            1   14   4  483  371\n",
            "4   4        4            1   35   4  263  284\n",
            "5   5        5            1  126   5  189  327\n",
            "6   6        6            1   38   7  456  478\n",
            "7   7        7            1    5  32  142  227\n",
            "8   8        7            2  258  54   39  122\n",
            "9   9        8            1   41   4  404  491\n",
            "   id file_name  width  height\n",
            "0   0     0.jpg    500     375\n",
            "1   1     1.jpg    327     500\n",
            "2   2     2.jpg    188     199\n",
            "3   3     3.jpg    500     375\n",
            "4   4     4.jpg    300     288\n",
            "5   5     5.jpg    500     376\n",
            "6   6     6.jpg    500     488\n",
            "7   7     7.jpg    300     264\n",
            "8   8     8.jpg    470     500\n",
            "9   9     9.jpg    369     500\n"
          ],
          "name": "stdout"
        }
      ]
    },
    {
      "cell_type": "code",
      "metadata": {
        "id": "8cpcEue0M3g0",
        "colab_type": "code",
        "colab": {}
      },
      "source": [
        "annotations_df.to_csv('file1.csv')\n",
        "images_df.to_csv('file2.csv')"
      ],
      "execution_count": 0,
      "outputs": []
    },
    {
      "cell_type": "code",
      "metadata": {
        "id": "eoOCAW7TeZPz",
        "colab_type": "code",
        "colab": {
          "base_uri": "https://localhost:8080/",
          "height": 67
        },
        "outputId": "50045e44-c791-4d66-82f2-b25b8adf6f10"
      },
      "source": [
        "!ls"
      ],
      "execution_count": 132,
      "outputs": [
        {
          "output_type": "stream",
          "text": [
            "dog_bbox_data.csv\t\t  file1.csv\n",
            "dog_bbox_data.gsheet\t\t  file2.csv\n",
            "dog_boundingbox_export_coco.json  ObjectDetect_BoundingBox_Calculation.ipynb\n"
          ],
          "name": "stdout"
        }
      ]
    },
    {
      "cell_type": "code",
      "metadata": {
        "id": "GOHo9IY3ht57",
        "colab_type": "code",
        "colab": {}
      },
      "source": [
        "bbox_df = pd.read_csv('dog_bbox_data.csv')"
      ],
      "execution_count": 0,
      "outputs": []
    },
    {
      "cell_type": "code",
      "metadata": {
        "id": "wFUCaSw1ieSC",
        "colab_type": "code",
        "colab": {
          "base_uri": "https://localhost:8080/",
          "height": 235
        },
        "outputId": "f9f975b9-ee5e-41e2-fcc7-88f155916e4c"
      },
      "source": [
        "print(bbox_df[:10])"
      ],
      "execution_count": 135,
      "outputs": [
        {
          "output_type": "stream",
          "text": [
            "   id  image_id file_name  width  height  ...   y    w    h  norm_w  norm_h\n",
            "0   0         0     0.jpg    500     375  ...  20  312  299  0.6240  0.7973\n",
            "1   1         1     1.jpg    327     500  ...  55  294  431  0.8991  0.8620\n",
            "2   2         2     2.jpg    188     199  ...  44  110  144  0.5851  0.7236\n",
            "3   3         3     3.jpg    500     375  ...   4  483  371  0.9660  0.9893\n",
            "4   4         4     4.jpg    300     288  ...   4  263  284  0.8767  0.9861\n",
            "5   5         5     5.jpg    500     376  ...   5  189  327  0.3780  0.8697\n",
            "6   6         6     6.jpg    500     488  ...   7  456  478  0.9120  0.9795\n",
            "7   7         7     7.jpg    300     264  ...  32  142  227  0.4733  0.8598\n",
            "8   8         7     7.jpg    300     264  ...  54   39  122  0.1300  0.4621\n",
            "9   9         8     8.jpg    470     500  ...   4  404  491  0.8596  0.9820\n",
            "\n",
            "[10 rows x 12 columns]\n"
          ],
          "name": "stdout"
        }
      ]
    },
    {
      "cell_type": "markdown",
      "metadata": {
        "id": "CJJRalXUi9On",
        "colab_type": "text"
      },
      "source": [
        "## Bounding height versus width"
      ]
    },
    {
      "cell_type": "code",
      "metadata": {
        "id": "ViPZAauijL5g",
        "colab_type": "code",
        "colab": {
          "base_uri": "https://localhost:8080/",
          "height": 369
        },
        "outputId": "4a6815c8-265e-4f74-cdaf-d298ddc1867d"
      },
      "source": [
        "w, h = bbox_df[\"norm_w\"], bbox_df[\"norm_h\"]\n",
        "log_w, log_h = np.log(w), np.log(h)\n",
        "\n",
        "fig, axes = plt.subplots(nrows=1, ncols=2,  figsize=(10, 5))\n",
        "axes[0].scatter(w, h)\n",
        "axes[0].set_xlabel(\"w\")\n",
        "axes[0].set_ylabel(\"h\")\n",
        "\n",
        "axes[1].scatter(log_w, log_h)\n",
        "axes[1].set_xlabel(\"log(w)\")\n",
        "axes[1].set_ylabel(\"log(h)\")\n",
        "fig.tight_layout()\n"
      ],
      "execution_count": 157,
      "outputs": [
        {
          "output_type": "display_data",
          "data": {
            "image/png": "[encoded data removed]",
            "text/plain": [
              "<Figure size 720x360 with 2 Axes>"
            ]
          },
          "metadata": {
            "tags": [],
            "needs_background": "light"
          }
        }
      ]
    },
    {
      "cell_type": "markdown",
      "metadata": {
        "id": "06l41QU2pgc8",
        "colab_type": "text"
      },
      "source": [
        "## Calculate clusters\n",
        "\n",
        "From elbow method, the optimum cluster is found to be 3. "
      ]
    },
    {
      "cell_type": "code",
      "metadata": {
        "id": "ZlFePVMRrcJK",
        "colab_type": "code",
        "colab": {}
      },
      "source": [
        "X= []\n",
        "for i in range(len(log_w)):\n",
        "    X.append((log_w[i], log_h[i]))\n",
        "X = np.array(X)"
      ],
      "execution_count": 0,
      "outputs": []
    },
    {
      "cell_type": "code",
      "metadata": {
        "id": "rEZ3b1Ympo3H",
        "colab_type": "code",
        "colab": {
          "base_uri": "https://localhost:8080/",
          "height": 295
        },
        "outputId": "e31d5a6f-afcc-4618-9f1f-605226f882dc"
      },
      "source": [
        "wcss = []\n",
        "\n",
        "for i in range(1, 11):\n",
        "    kmeans = KMeans(n_clusters=i, init='k-means++', max_iter=300, n_init=10, random_state=0)\n",
        "    kmeans.fit(X)\n",
        "    wcss.append(kmeans.inertia_)\n",
        "plt.plot(range(1, 11), wcss)\n",
        "plt.title('Elbow Method')\n",
        "plt.xlabel('Number of clusters')\n",
        "plt.ylabel('WCSS')\n",
        "plt.show()"
      ],
      "execution_count": 174,
      "outputs": [
        {
          "output_type": "display_data",
          "data": {
            "image/png": "[encoded data removed]",
            "text/plain": [
              "<Figure size 432x288 with 1 Axes>"
            ]
          },
          "metadata": {
            "tags": [],
            "needs_background": "light"
          }
        }
      ]
    },
    {
      "cell_type": "code",
      "metadata": {
        "id": "fMZjmkn223sz",
        "colab_type": "code",
        "colab": {
          "base_uri": "https://localhost:8080/",
          "height": 265
        },
        "outputId": "6b7ed6a6-22ff-4be1-f537-b4cc1fed0ea8"
      },
      "source": [
        "kmeans = KMeans(n_clusters=3, init='k-means++', max_iter=300, n_init=10, random_state=0)\n",
        "pred_y = kmeans.fit_predict(X)\n",
        "plt.scatter(X[:,0], X[:,1])\n",
        "plt.scatter(kmeans.cluster_centers_[:, 0], kmeans.cluster_centers_[:, 1], s=300, c='red')\n",
        "plt.show()"
      ],
      "execution_count": 179,
      "outputs": [
        {
          "output_type": "display_data",
          "data": {
            "image/png": "[encoded data removed]",
            "text/plain": [
              "<Figure size 432x288 with 1 Axes>"
            ]
          },
          "metadata": {
            "tags": [],
            "needs_background": "light"
          }
        }
      ]
    }
  ]
}