{
  "nbformat": 4,
  "nbformat_minor": 0,
  "metadata": {
    "colab": {
      "name": "EVA4_S5_F3_AdditionalConvLayers.ipynb",
      "provenance": [],
      "collapsed_sections": [],
      "authorship_tag": "ABX9TyPi+qOhxJm+fXyp8aQK+pX3",
      "include_colab_link": true
    },
    "kernelspec": {
      "name": "python3",
      "display_name": "Python 3"
    },
    "accelerator": "GPU"
  },
  "cells": [
    {
      "cell_type": "markdown",
      "metadata": {
        "id": "view-in-github",
        "colab_type": "text"
      },
      "source": [
        "<a href=\"https://colab.research.google.com/github/Shashank-Holla/TSAI-EVA4/blob/master/Sesssion5_MNIST/EVA4_S5_F3_AdditionalConvLayers.ipynb\" target=\"_parent\"><img src=\"https://colab.research.google.com/assets/colab-badge.svg\" alt=\"Open In Colab\"/></a>"
      ]
    },
    {
      "cell_type": "markdown",
      "metadata": {
        "id": "-MDrYACns7eO",
        "colab_type": "text"
      },
      "source": [
        "Target:\n",
        "\n",
        "---\n",
        "As previous model was well below capacity and accuracy was not hitting 99.4%, added additional convolution layers to increase capacity.\n",
        "\n",
        "Results:\n",
        "\n",
        "---\n",
        "1. Number of parameters: 11.3K\n",
        "2. Training accuracy : 99.14%\n",
        "3. Testing accuracy : 99.32%\n",
        "\n",
        "Analysis:\n",
        "\n",
        "---\n",
        "\n",
        "\n",
        "\n",
        "1. Test accuracy is still not achieving desired value. Model is not showing any overfitting. Shows model is trained harder. \n",
        "\n",
        "---\n",
        "\n"
      ]
    },
    {
      "cell_type": "markdown",
      "metadata": {
        "id": "OTKnEHYiq75X",
        "colab_type": "text"
      },
      "source": [
        "Importing Libraries"
      ]
    },
    {
      "cell_type": "code",
      "metadata": {
        "id": "bEk7uu_Sb5gz",
        "colab_type": "code",
        "colab": {}
      },
      "source": [
        "#A future statement is a directive to the compiler that a particular module should be compiled using syntax or semantics that will be available in a specified future release of Python.\n",
        "from __future__ import print_function\n",
        "\n",
        "# torch is the main module that holds all the things you need for Tensor computation.\n",
        "import torch\n",
        "\n",
        "# nn module provides many classes and functions to build neural networks.\n",
        "# models, all kinds of layers, activation functions, parameter classes, etc\n",
        "import torch.nn as nn\n",
        "\n",
        "# functional api such as relu\n",
        "import torch.nn.functional as F\n",
        "\n",
        "# it offers all the optimizers like SGD, ADAM\n",
        "import torch.optim as optim\n",
        "\n",
        "#Torchvision is a package in the PyTorch library containing computer-vision models, datasets, and image transformations\n",
        "from torchvision import datasets, transforms\n",
        "\n",
        "#Matplotlib for graphs.\n",
        "import matplotlib.pyplot as plt"
      ],
      "execution_count": 0,
      "outputs": []
    },
    {
      "cell_type": "markdown",
      "metadata": {
        "id": "7hDpcdFDrBo-",
        "colab_type": "text"
      },
      "source": [
        "Data Transformations"
      ]
    },
    {
      "cell_type": "code",
      "metadata": {
        "id": "d-7EF5w3jUfU",
        "colab_type": "code",
        "colab": {}
      },
      "source": [
        "# Train Phase transformations\n",
        "train_transforms = transforms.Compose([\n",
        "                                      #  transforms.Resize((28, 28)),\n",
        "                                      #  transforms.ColorJitter(brightness=0.10, contrast=0.1, saturation=0.10, hue=0.1),\n",
        "                                      #  transforms.RandomRotation((-7.0, 7.0), fill=(1,)),\n",
        "                                       transforms.ToTensor(),\n",
        "                                       transforms.Normalize((0.1307,), (0.3081,)) # The mean and std have to be sequences (e.g., tuples), therefore you should add a comma after the values. \n",
        "                                       # Note the difference between (0.1307) and (0.1307,)\n",
        "                                       ])\n",
        "\n",
        "# Test Phase transformations\n",
        "test_transforms = transforms.Compose([\n",
        "                                      #  transforms.Resize((28, 28)),\n",
        "                                      #  transforms.ColorJitter(brightness=0.10, contrast=0.1, saturation=0.10, hue=0.1),\n",
        "                                       transforms.ToTensor(),\n",
        "                                       transforms.Normalize((0.1307,), (0.3081,))\n",
        "                                       ])"
      ],
      "execution_count": 0,
      "outputs": []
    },
    {
      "cell_type": "markdown",
      "metadata": {
        "id": "v6NJhU37rHfB",
        "colab_type": "text"
      },
      "source": [
        "Dataset and Creating Train/Test Split"
      ]
    },
    {
      "cell_type": "code",
      "metadata": {
        "id": "707g0bX2qPHE",
        "colab_type": "code",
        "colab": {}
      },
      "source": [
        "train = datasets.MNIST('./data', train=True, download=True, transform=train_transforms)\n",
        "test = datasets.MNIST('./data', train=False, download=True, transform=test_transforms)"
      ],
      "execution_count": 0,
      "outputs": []
    },
    {
      "cell_type": "markdown",
      "metadata": {
        "id": "ssRqfF2QrLy_",
        "colab_type": "text"
      },
      "source": [
        "Dataloader Arguments & Test/Train Dataloaders"
      ]
    },
    {
      "cell_type": "code",
      "metadata": {
        "id": "kuB6s7uyrLIw",
        "colab_type": "code",
        "outputId": "2896ca93-4c29-4486-cb74-571c80c5c4d1",
        "colab": {
          "base_uri": "https://localhost:8080/",
          "height": 34
        }
      },
      "source": [
        "SEED = 1\n",
        "\n",
        "# CUDA?\n",
        "cuda = torch.cuda.is_available()\n",
        "print(\"CUDA Available?\", cuda)\n",
        "\n",
        "# For reproducibility\n",
        "torch.manual_seed(SEED)\n",
        "\n",
        "if cuda:\n",
        "    torch.cuda.manual_seed(SEED)\n",
        "\n",
        "# dataloader arguments - something you'll fetch these from cmdprmt\n",
        "dataloader_args = dict(shuffle=True, batch_size=128, num_workers=4, pin_memory=True) if cuda else dict(shuffle=True, batch_size=64)\n",
        "\n",
        "# train dataloader\n",
        "train_loader = torch.utils.data.DataLoader(train, **dataloader_args)\n",
        "\n",
        "# test dataloader\n",
        "test_loader = torch.utils.data.DataLoader(test, **dataloader_args)"
      ],
      "execution_count": 4,
      "outputs": [
        {
          "output_type": "stream",
          "text": [
            "CUDA Available? True\n"
          ],
          "name": "stdout"
        }
      ]
    },
    {
      "cell_type": "markdown",
      "metadata": {
        "id": "UyAth7DSrQgW",
        "colab_type": "text"
      },
      "source": [
        "The model"
      ]
    },
    {
      "cell_type": "code",
      "metadata": {
        "id": "E_sMvMCxtPtA",
        "colab_type": "code",
        "colab": {}
      },
      "source": [
        "dropout_value = 0.25\n",
        "class Net(nn.Module):\n",
        "    def __init__(self):\n",
        "        super(Net, self).__init__()\n",
        "        \n",
        "        #Convolution layer-1  \n",
        "        self.conv1 = nn.Sequential(\n",
        "            nn.Conv2d(1, 8, 3, padding=1),\n",
        "            nn.ReLU(),\n",
        "            nn.BatchNorm2d(8)                        \n",
        "        ) #Output size- 28. RF=3\n",
        "\n",
        "        #Convolution layer-2\n",
        "        self.conv2 = nn.Sequential(\n",
        "            nn.Conv2d(8, 16, 3, padding=1),\n",
        "            nn.ReLU(),\n",
        "            nn.BatchNorm2d(16)\n",
        "        ) #Output size- 28. RF=5\n",
        "\n",
        "        #Convolution layer-2\n",
        "        self.conv21 = nn.Sequential(\n",
        "            nn.Conv2d(16, 16, 3, padding=1),\n",
        "            nn.ReLU(),\n",
        "            nn.BatchNorm2d(16)\n",
        "        ) #Output size- 28. RF=7\n",
        "\n",
        "        #Max pool, Transition block and dropout - 1\n",
        "        self.conv3 = nn.Sequential( \n",
        "            #Transition layer - start\n",
        "            nn.MaxPool2d(2, 2), #Output size- 14. RF=8\n",
        "            nn.Conv2d(16, 8, 1),  #Output size- 14. RF=8          \n",
        "            nn.Dropout(0.25)\n",
        "        ) \n",
        "\n",
        "        #Convolution Layer-3\n",
        "        self.conv4 = nn.Sequential(\n",
        "            nn.Conv2d(8, 8, 3, padding=1), #Output size- 14. RF=12 \n",
        "            nn.ReLU(),\n",
        "            nn.BatchNorm2d(8)             \n",
        "        ) \n",
        "        \n",
        "        #Convolution Layer-4\n",
        "        self.conv5 = nn.Sequential(\n",
        "            nn.Conv2d(8, 16, 3, padding=1), #Output size- 14. RF=16 \n",
        "            nn.ReLU(),\n",
        "            nn.BatchNorm2d(16)\n",
        "        )\n",
        "\n",
        "        #Convolution layer-2\n",
        "        self.conv51 = nn.Sequential(\n",
        "            nn.Conv2d(16, 16, 3, padding=1), #Output size- 14. RF=20\n",
        "            nn.ReLU(),\n",
        "            nn.BatchNorm2d(16)\n",
        "        ) \n",
        "\n",
        "        #Max pool, Transition block and dropout - 1\n",
        "        self.conv6 = nn.Sequential(\n",
        "            #Transition layer - start\n",
        "            nn.MaxPool2d(2, 2), #Output size- 7. RF=22 \n",
        "            nn.Conv2d(16, 8, 1), #Output size- 7. RF=22\n",
        "            #Transition layer - End\n",
        "            nn.Dropout(0.25)\n",
        "        )\n",
        "\n",
        "        #Convolution Layer-5\n",
        "        self.conv7 = nn.Sequential(\n",
        "            nn.Conv2d(8, 8, 3), #Output size- 5. RF=30\n",
        "            nn.ReLU(),\n",
        "            nn.BatchNorm2d(8)\n",
        "        )\n",
        "\n",
        "        #Convolution layer-6\n",
        "        self.conv8 = nn.Sequential(\n",
        "           nn.Conv2d(8, 16, 3), #Output size- 3. RF=38\n",
        "           nn.ReLU(),\n",
        "           nn.BatchNorm2d(16)\n",
        "        )\n",
        "\n",
        "        #Final Layer\n",
        "        self.conv9 = nn.Sequential(\n",
        "           nn.Conv2d(16,10,3) #Output size- 1. RF=46\n",
        "        )\n",
        "\n",
        "    def forward(self, x):\n",
        "        x = self.conv1(x)\n",
        "        x = self.conv2(x)\n",
        "        x = self.conv21(x)\n",
        "        x = self.conv3(x)\n",
        "        x = self.conv4(x)\n",
        "        x = self.conv5(x)\n",
        "        x = self.conv51(x)\n",
        "        x = self.conv6(x)\n",
        "        x = self.conv7(x)\n",
        "        x = self.conv8(x)\n",
        "        x = self.conv9(x)\n",
        "\n",
        "        \n",
        "                      \n",
        "        # Flatten layer\n",
        "        x = x.view(-1, 10)\n",
        "        return F.log_softmax(x)"
      ],
      "execution_count": 0,
      "outputs": []
    },
    {
      "cell_type": "markdown",
      "metadata": {
        "id": "puRLhe7ZtvAm",
        "colab_type": "text"
      },
      "source": [
        "Model Params"
      ]
    },
    {
      "cell_type": "code",
      "metadata": {
        "id": "OZ5TrPYetxIf",
        "colab_type": "code",
        "outputId": "25e389f0-afd7-4a50-b08b-160761cedad8",
        "colab": {
          "base_uri": "https://localhost:8080/",
          "height": 826
        }
      },
      "source": [
        "!pip install torchsummary\n",
        "from torchsummary import summary\n",
        "use_cuda = torch.cuda.is_available()\n",
        "device = torch.device(\"cuda\" if use_cuda else \"cpu\")\n",
        "print(device)\n",
        "model = Net().to(device)\n",
        "summary(model, input_size=(1, 28, 28))"
      ],
      "execution_count": 6,
      "outputs": [
        {
          "output_type": "stream",
          "text": [
            "Requirement already satisfied: torchsummary in /usr/local/lib/python3.6/dist-packages (1.5.1)\n",
            "cuda\n",
            "----------------------------------------------------------------\n",
            "        Layer (type)               Output Shape         Param #\n",
            "================================================================\n",
            "            Conv2d-1            [-1, 8, 28, 28]              80\n",
            "              ReLU-2            [-1, 8, 28, 28]               0\n",
            "       BatchNorm2d-3            [-1, 8, 28, 28]              16\n",
            "            Conv2d-4           [-1, 16, 28, 28]           1,168\n",
            "              ReLU-5           [-1, 16, 28, 28]               0\n",
            "       BatchNorm2d-6           [-1, 16, 28, 28]              32\n",
            "            Conv2d-7           [-1, 16, 28, 28]           2,320\n",
            "              ReLU-8           [-1, 16, 28, 28]               0\n",
            "       BatchNorm2d-9           [-1, 16, 28, 28]              32\n",
            "        MaxPool2d-10           [-1, 16, 14, 14]               0\n",
            "           Conv2d-11            [-1, 8, 14, 14]             136\n",
            "          Dropout-12            [-1, 8, 14, 14]               0\n",
            "           Conv2d-13            [-1, 8, 14, 14]             584\n",
            "             ReLU-14            [-1, 8, 14, 14]               0\n",
            "      BatchNorm2d-15            [-1, 8, 14, 14]              16\n",
            "           Conv2d-16           [-1, 16, 14, 14]           1,168\n",
            "             ReLU-17           [-1, 16, 14, 14]               0\n",
            "      BatchNorm2d-18           [-1, 16, 14, 14]              32\n",
            "           Conv2d-19           [-1, 16, 14, 14]           2,320\n",
            "             ReLU-20           [-1, 16, 14, 14]               0\n",
            "      BatchNorm2d-21           [-1, 16, 14, 14]              32\n",
            "        MaxPool2d-22             [-1, 16, 7, 7]               0\n",
            "           Conv2d-23              [-1, 8, 7, 7]             136\n",
            "          Dropout-24              [-1, 8, 7, 7]               0\n",
            "           Conv2d-25              [-1, 8, 5, 5]             584\n",
            "             ReLU-26              [-1, 8, 5, 5]               0\n",
            "      BatchNorm2d-27              [-1, 8, 5, 5]              16\n",
            "           Conv2d-28             [-1, 16, 3, 3]           1,168\n",
            "             ReLU-29             [-1, 16, 3, 3]               0\n",
            "      BatchNorm2d-30             [-1, 16, 3, 3]              32\n",
            "           Conv2d-31             [-1, 10, 1, 1]           1,450\n",
            "================================================================\n",
            "Total params: 11,322\n",
            "Trainable params: 11,322\n",
            "Non-trainable params: 0\n",
            "----------------------------------------------------------------\n",
            "Input size (MB): 0.00\n",
            "Forward/backward pass size (MB): 0.96\n",
            "Params size (MB): 0.04\n",
            "Estimated Total Size (MB): 1.01\n",
            "----------------------------------------------------------------\n"
          ],
          "name": "stdout"
        },
        {
          "output_type": "stream",
          "text": [
            "/usr/local/lib/python3.6/dist-packages/ipykernel_launcher.py:101: UserWarning: Implicit dimension choice for log_softmax has been deprecated. Change the call to include dim=X as an argument.\n"
          ],
          "name": "stderr"
        }
      ]
    },
    {
      "cell_type": "markdown",
      "metadata": {
        "id": "hxU4DpW6tz3O",
        "colab_type": "text"
      },
      "source": [
        "Training and Testing"
      ]
    },
    {
      "cell_type": "code",
      "metadata": {
        "id": "WC-8TQhBt2QO",
        "colab_type": "code",
        "colab": {}
      },
      "source": [
        "from tqdm import tqdm\n",
        "\n",
        "train_losses = []\n",
        "test_losses = []\n",
        "train_acc = []\n",
        "test_acc = []\n",
        "\n",
        "def train(model, device, train_loader, optimizer, epoch):\n",
        "  model.train()\n",
        "  pbar = tqdm(train_loader)\n",
        "  correct = 0\n",
        "  processed = 0\n",
        "  for batch_idx, (data, target) in enumerate(pbar):\n",
        "    # get samples\n",
        "    data, target = data.to(device), target.to(device)\n",
        "\n",
        "    # Init\n",
        "    optimizer.zero_grad()\n",
        "    # In PyTorch, we need to set the gradients to zero before starting to do backpropragation because PyTorch accumulates the gradients on subsequent backward passes. \n",
        "    # Because of this, when you start your training loop, ideally you should zero out the gradients so that you do the parameter update correctly.\n",
        "\n",
        "    # Predict\n",
        "    y_pred = model(data)\n",
        "\n",
        "    # Calculate loss\n",
        "    loss = F.nll_loss(y_pred, target)\n",
        "    train_losses.append(loss)\n",
        "\n",
        "    # Backpropagation\n",
        "    loss.backward()\n",
        "    optimizer.step()\n",
        "\n",
        "    # Update pbar-tqdm\n",
        "    \n",
        "    pred = y_pred.argmax(dim=1, keepdim=True)  # get the index of the max log-probability\n",
        "    correct += pred.eq(target.view_as(pred)).sum().item()\n",
        "    processed += len(data)\n",
        "\n",
        "    pbar.set_description(desc= f'Loss={loss.item()} Batch_id={batch_idx} Accuracy={100*correct/processed:0.2f}')\n",
        "    train_acc.append(100*correct/processed)\n",
        "\n",
        "def test(model, device, test_loader):\n",
        "    model.eval()\n",
        "    test_loss = 0\n",
        "    correct = 0\n",
        "    with torch.no_grad():\n",
        "        for data, target in test_loader:\n",
        "            data, target = data.to(device), target.to(device)\n",
        "            output = model(data)\n",
        "            test_loss += F.nll_loss(output, target, reduction='sum').item()  # sum up batch loss\n",
        "            pred = output.argmax(dim=1, keepdim=True)  # get the index of the max log-probability\n",
        "            correct += pred.eq(target.view_as(pred)).sum().item()\n",
        "\n",
        "    test_loss /= len(test_loader.dataset)\n",
        "    test_losses.append(test_loss)\n",
        "\n",
        "    print('\\nTest set: Average loss: {:.4f}, Accuracy: {}/{} ({:.2f}%)\\n'.format(\n",
        "        test_loss, correct, len(test_loader.dataset),\n",
        "        100. * correct / len(test_loader.dataset)))\n",
        "    \n",
        "    test_acc.append(100. * correct / len(test_loader.dataset))"
      ],
      "execution_count": 0,
      "outputs": []
    },
    {
      "cell_type": "code",
      "metadata": {
        "id": "XNAIK2tNt7Lw",
        "colab_type": "code",
        "outputId": "6cb71b0e-2c02-4e3f-f38a-8909e74023c0",
        "colab": {
          "base_uri": "https://localhost:8080/",
          "height": 1000
        }
      },
      "source": [
        "#from torch.optim.lr_scheduler import StepLR\n",
        "\n",
        "model =  Net().to(device)\n",
        "optimizer = optim.SGD(model.parameters(), lr=0.01, momentum=0.9)\n",
        "#scheduler = StepLR(optimizer, step_size=6, gamma=0.1)\n",
        "\n",
        "EPOCHS = 15\n",
        "for epoch in range(EPOCHS):\n",
        "    print(\"EPOCH:\", epoch)\n",
        "    train(model, device, train_loader, optimizer, epoch)\n",
        "    # scheduler.step()\n",
        "    test(model, device, test_loader)"
      ],
      "execution_count": 8,
      "outputs": [
        {
          "output_type": "stream",
          "text": [
            "\r  0%|          | 0/469 [00:00<?, ?it/s]"
          ],
          "name": "stderr"
        },
        {
          "output_type": "stream",
          "text": [
            "EPOCH: 0\n"
          ],
          "name": "stdout"
        },
        {
          "output_type": "stream",
          "text": [
            "/usr/local/lib/python3.6/dist-packages/ipykernel_launcher.py:101: UserWarning: Implicit dimension choice for log_softmax has been deprecated. Change the call to include dim=X as an argument.\n",
            "Loss=0.11931607872247696 Batch_id=468 Accuracy=92.50: 100%|██████████| 469/469 [00:12<00:00, 37.78it/s]\n",
            "  0%|          | 0/469 [00:00<?, ?it/s]"
          ],
          "name": "stderr"
        },
        {
          "output_type": "stream",
          "text": [
            "\n",
            "Test set: Average loss: 0.0877, Accuracy: 9696/10000 (96.96%)\n",
            "\n",
            "EPOCH: 1\n"
          ],
          "name": "stdout"
        },
        {
          "output_type": "stream",
          "text": [
            "Loss=0.035116586834192276 Batch_id=468 Accuracy=97.58: 100%|██████████| 469/469 [00:12<00:00, 38.54it/s]\n",
            "  0%|          | 0/469 [00:00<?, ?it/s]"
          ],
          "name": "stderr"
        },
        {
          "output_type": "stream",
          "text": [
            "\n",
            "Test set: Average loss: 0.0397, Accuracy: 9872/10000 (98.72%)\n",
            "\n",
            "EPOCH: 2\n"
          ],
          "name": "stdout"
        },
        {
          "output_type": "stream",
          "text": [
            "Loss=0.08859282732009888 Batch_id=468 Accuracy=98.14: 100%|██████████| 469/469 [00:12<00:00, 37.24it/s]\n",
            "  0%|          | 0/469 [00:00<?, ?it/s]"
          ],
          "name": "stderr"
        },
        {
          "output_type": "stream",
          "text": [
            "\n",
            "Test set: Average loss: 0.0387, Accuracy: 9885/10000 (98.85%)\n",
            "\n",
            "EPOCH: 3\n"
          ],
          "name": "stdout"
        },
        {
          "output_type": "stream",
          "text": [
            "Loss=0.0759669840335846 Batch_id=468 Accuracy=98.36: 100%|██████████| 469/469 [00:13<00:00, 36.03it/s]\n",
            "  0%|          | 0/469 [00:00<?, ?it/s]"
          ],
          "name": "stderr"
        },
        {
          "output_type": "stream",
          "text": [
            "\n",
            "Test set: Average loss: 0.0294, Accuracy: 9911/10000 (99.11%)\n",
            "\n",
            "EPOCH: 4\n"
          ],
          "name": "stdout"
        },
        {
          "output_type": "stream",
          "text": [
            "Loss=0.07615938037633896 Batch_id=468 Accuracy=98.56: 100%|██████████| 469/469 [00:13<00:00, 35.27it/s]\n",
            "  0%|          | 0/469 [00:00<?, ?it/s]"
          ],
          "name": "stderr"
        },
        {
          "output_type": "stream",
          "text": [
            "\n",
            "Test set: Average loss: 0.0308, Accuracy: 9914/10000 (99.14%)\n",
            "\n",
            "EPOCH: 5\n"
          ],
          "name": "stdout"
        },
        {
          "output_type": "stream",
          "text": [
            "Loss=0.053109657019376755 Batch_id=468 Accuracy=98.67: 100%|██████████| 469/469 [00:12<00:00, 38.18it/s]\n",
            "  0%|          | 0/469 [00:00<?, ?it/s]"
          ],
          "name": "stderr"
        },
        {
          "output_type": "stream",
          "text": [
            "\n",
            "Test set: Average loss: 0.0262, Accuracy: 9924/10000 (99.24%)\n",
            "\n",
            "EPOCH: 6\n"
          ],
          "name": "stdout"
        },
        {
          "output_type": "stream",
          "text": [
            "Loss=0.012895308434963226 Batch_id=468 Accuracy=98.78: 100%|██████████| 469/469 [00:12<00:00, 37.90it/s]\n",
            "  0%|          | 0/469 [00:00<?, ?it/s]"
          ],
          "name": "stderr"
        },
        {
          "output_type": "stream",
          "text": [
            "\n",
            "Test set: Average loss: 0.0269, Accuracy: 9914/10000 (99.14%)\n",
            "\n",
            "EPOCH: 7\n"
          ],
          "name": "stdout"
        },
        {
          "output_type": "stream",
          "text": [
            "Loss=0.009820674546062946 Batch_id=468 Accuracy=98.86: 100%|██████████| 469/469 [00:12<00:00, 37.32it/s]\n",
            "  0%|          | 0/469 [00:00<?, ?it/s]"
          ],
          "name": "stderr"
        },
        {
          "output_type": "stream",
          "text": [
            "\n",
            "Test set: Average loss: 0.0252, Accuracy: 9915/10000 (99.15%)\n",
            "\n",
            "EPOCH: 8\n"
          ],
          "name": "stdout"
        },
        {
          "output_type": "stream",
          "text": [
            "Loss=0.034333255141973495 Batch_id=468 Accuracy=98.94: 100%|██████████| 469/469 [00:13<00:00, 46.01it/s]\n",
            "  0%|          | 0/469 [00:00<?, ?it/s]"
          ],
          "name": "stderr"
        },
        {
          "output_type": "stream",
          "text": [
            "\n",
            "Test set: Average loss: 0.0232, Accuracy: 9924/10000 (99.24%)\n",
            "\n",
            "EPOCH: 9\n"
          ],
          "name": "stdout"
        },
        {
          "output_type": "stream",
          "text": [
            "Loss=0.017475062981247902 Batch_id=468 Accuracy=99.01: 100%|██████████| 469/469 [00:12<00:00, 37.85it/s]\n",
            "  0%|          | 0/469 [00:00<?, ?it/s]"
          ],
          "name": "stderr"
        },
        {
          "output_type": "stream",
          "text": [
            "\n",
            "Test set: Average loss: 0.0266, Accuracy: 9918/10000 (99.18%)\n",
            "\n",
            "EPOCH: 10\n"
          ],
          "name": "stdout"
        },
        {
          "output_type": "stream",
          "text": [
            "Loss=0.059197425842285156 Batch_id=468 Accuracy=99.03: 100%|██████████| 469/469 [00:12<00:00, 48.63it/s]\n",
            "  0%|          | 0/469 [00:00<?, ?it/s]"
          ],
          "name": "stderr"
        },
        {
          "output_type": "stream",
          "text": [
            "\n",
            "Test set: Average loss: 0.0236, Accuracy: 9933/10000 (99.33%)\n",
            "\n",
            "EPOCH: 11\n"
          ],
          "name": "stdout"
        },
        {
          "output_type": "stream",
          "text": [
            "Loss=0.003263711929321289 Batch_id=468 Accuracy=99.05: 100%|██████████| 469/469 [00:12<00:00, 37.28it/s]\n",
            "  0%|          | 0/469 [00:00<?, ?it/s]"
          ],
          "name": "stderr"
        },
        {
          "output_type": "stream",
          "text": [
            "\n",
            "Test set: Average loss: 0.0212, Accuracy: 9934/10000 (99.34%)\n",
            "\n",
            "EPOCH: 12\n"
          ],
          "name": "stdout"
        },
        {
          "output_type": "stream",
          "text": [
            "Loss=0.007723579648882151 Batch_id=468 Accuracy=99.08: 100%|██████████| 469/469 [00:13<00:00, 35.63it/s]\n",
            "  0%|          | 0/469 [00:00<?, ?it/s]"
          ],
          "name": "stderr"
        },
        {
          "output_type": "stream",
          "text": [
            "\n",
            "Test set: Average loss: 0.0237, Accuracy: 9927/10000 (99.27%)\n",
            "\n",
            "EPOCH: 13\n"
          ],
          "name": "stdout"
        },
        {
          "output_type": "stream",
          "text": [
            "Loss=0.035827118903398514 Batch_id=468 Accuracy=99.14: 100%|██████████| 469/469 [00:12<00:00, 37.64it/s]\n",
            "  0%|          | 0/469 [00:00<?, ?it/s]"
          ],
          "name": "stderr"
        },
        {
          "output_type": "stream",
          "text": [
            "\n",
            "Test set: Average loss: 0.0229, Accuracy: 9932/10000 (99.32%)\n",
            "\n",
            "EPOCH: 14\n"
          ],
          "name": "stdout"
        },
        {
          "output_type": "stream",
          "text": [
            "Loss=0.08576001971960068 Batch_id=468 Accuracy=99.15: 100%|██████████| 469/469 [00:12<00:00, 36.89it/s]\n"
          ],
          "name": "stderr"
        },
        {
          "output_type": "stream",
          "text": [
            "\n",
            "Test set: Average loss: 0.0210, Accuracy: 9934/10000 (99.34%)\n",
            "\n"
          ],
          "name": "stdout"
        }
      ]
    },
    {
      "cell_type": "markdown",
      "metadata": {
        "id": "y3Ehp-JTuHE1",
        "colab_type": "text"
      },
      "source": [
        "Let's Train and test our model"
      ]
    },
    {
      "cell_type": "code",
      "metadata": {
        "id": "kWIECT0SuJ2t",
        "colab_type": "code",
        "outputId": "f80916c1-9f2b-4717-a60c-f4a4ebdc5b93",
        "colab": {
          "base_uri": "https://localhost:8080/",
          "height": 624
        }
      },
      "source": [
        "%matplotlib inline\n",
        "\n",
        "fig, axs = plt.subplots(2,2,figsize=(15,10))\n",
        "axs[0, 0].plot(train_losses)\n",
        "axs[0, 0].set_title(\"Training Loss\")\n",
        "axs[1, 0].plot(train_acc[4000:])\n",
        "axs[1, 0].set_title(\"Training Accuracy\")\n",
        "axs[0, 1].plot(test_losses)\n",
        "axs[0, 1].set_title(\"Test Loss\")\n",
        "axs[1, 1].plot(test_acc)\n",
        "axs[1, 1].set_title(\"Test Accuracy\")"
      ],
      "execution_count": 9,
      "outputs": [
        {
          "output_type": "execute_result",
          "data": {
            "text/plain": [
              "Text(0.5, 1.0, 'Test Accuracy')"
            ]
          },
          "metadata": {
            "tags": []
          },
          "execution_count": 9
        },
        {
          "output_type": "display_data",
          "data": {
            "image/png": "[encoded data removed]",
            "text/plain": [
              "<Figure size 1080x720 with 4 Axes>"
            ]
          },
          "metadata": {
            "tags": []
          }
        }
      ]
    }
  ]
}